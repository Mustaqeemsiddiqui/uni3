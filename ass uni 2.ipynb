{
 "cells": [
  {
   "cell_type": "code",
   "execution_count": 3,
   "id": "ea0cbdf8-4d0f-4f38-b103-d1d50b30f19b",
   "metadata": {},
   "outputs": [
    {
     "name": "stdout",
     "output_type": "stream",
     "text": [
      "LHS: 0.06249999999999984\n",
      "RHS: 0.0625\n",
      "Equality holds: True\n"
     ]
    }
   ],
   "source": [
    "#7\n",
    "import math\n",
    "\n",
    "# Updated last term: cos(27/20)\n",
    "lhs = (0.5 + math.cos(math.pi/20)) * (0.5 + math.cos(3*math.pi/20)) * (0.5 + math.cos(9*math.pi/20)) * (0.5 + math.cos(27*math.pi/20))\n",
    "rhs = 1/16\n",
    "\n",
    "print(\"LHS:\", lhs)\n",
    "print(\"RHS:\", rhs)\n",
    "print(\"Equality holds:\", math.isclose(lhs, rhs))\n"
   ]
  },
  {
   "cell_type": "code",
   "execution_count": 5,
   "id": "3ec4ac8a-e5bd-463b-b6e9-8cab8737ee29",
   "metadata": {},
   "outputs": [
    {
     "name": "stdout",
     "output_type": "stream",
     "text": [
      "1, 2, 3, 4: Product + 1 = 25 is a square number.\n",
      "2, 3, 4, 5: Product + 1 = 121 is a square number.\n",
      "3, 4, 5, 6: Product + 1 = 361 is a square number.\n",
      "4, 5, 6, 7: Product + 1 = 841 is a square number.\n",
      "5, 6, 7, 8: Product + 1 = 1681 is a square number.\n",
      "6, 7, 8, 9: Product + 1 = 3025 is a square number.\n",
      "7, 8, 9, 10: Product + 1 = 5041 is a square number.\n",
      "8, 9, 10, 11: Product + 1 = 7921 is a square number.\n",
      "9, 10, 11, 12: Product + 1 = 11881 is a square number.\n",
      "10, 11, 12, 13: Product + 1 = 17161 is a square number.\n",
      "11, 12, 13, 14: Product + 1 = 24025 is a square number.\n",
      "12, 13, 14, 15: Product + 1 = 32761 is a square number.\n",
      "13, 14, 15, 16: Product + 1 = 43681 is a square number.\n",
      "14, 15, 16, 17: Product + 1 = 57121 is a square number.\n",
      "15, 16, 17, 18: Product + 1 = 73441 is a square number.\n",
      "16, 17, 18, 19: Product + 1 = 93025 is a square number.\n",
      "17, 18, 19, 20: Product + 1 = 116281 is a square number.\n",
      "18, 19, 20, 21: Product + 1 = 143641 is a square number.\n",
      "19, 20, 21, 22: Product + 1 = 175561 is a square number.\n"
     ]
    }
   ],
   "source": [
    "#8\n",
    "def check_product_of_consecutives():\n",
    "    for i in range(1, 20):\n",
    "        product = i * (i + 1) * (i + 2) * (i + 3)\n",
    "        square_check = product + 1\n",
    "        if math.isqrt(square_check)**2 == square_check:\n",
    "            print(f\"{i}, {i+1}, {i+2}, {i+3}: Product + 1 = {square_check} is a square number.\")\n",
    "        else:\n",
    "            print(f\"{i}, {i+1}, {i+2}, {i+3}: Product + 1 = {square_check} is not a square number.\")\n",
    "            \n",
    "check_product_of_consecutives()\n"
   ]
  },
  {
   "cell_type": "code",
   "execution_count": 7,
   "id": "fdf3eeb9-dea4-4343-85db-210d6cbef38c",
   "metadata": {},
   "outputs": [
    {
     "name": "stdin",
     "output_type": "stream",
     "text": [
      "Enter the value of x in radians:  45\n"
     ]
    },
    {
     "name": "stdout",
     "output_type": "stream",
     "text": [
      "LHS: 0.557851739352194\n",
      "RHS: 0.5578517393521941\n",
      "Equality holds: True\n"
     ]
    }
   ],
   "source": [
    "#9\n",
    "import math\n",
    "\n",
    "x = float(input(\"Enter the value of x in radians: \"))\n",
    "\n",
    "lhs = (1 + math.sin(x) - math.cos(x)) / (1 + math.sin(x) + math.cos(x))\n",
    "rhs = math.tan(x / 2)\n",
    "\n",
    "print(\"LHS:\", lhs)\n",
    "print(\"RHS:\", rhs)\n",
    "print(\"Equality holds:\", math.isclose(lhs, rhs))\n"
   ]
  },
  {
   "cell_type": "code",
   "execution_count": 9,
   "id": "a8c6ecca-7c0b-4dd3-9999-745f5c200776",
   "metadata": {},
   "outputs": [
    {
     "name": "stdin",
     "output_type": "stream",
     "text": [
      "Enter the value of x in radians:  60\n"
     ]
    },
    {
     "name": "stdout",
     "output_type": "stream",
     "text": [
      "LHS: -6.405331196646276\n",
      "RHS: -6.405331196646276\n",
      "Equality holds: True\n"
     ]
    }
   ],
   "source": [
    "import math\n",
    "\n",
    "x = float(input(\"Enter the value of x in radians: \"))\n",
    "\n",
    "lhs = (1 + math.sin(x) - math.cos(x)) / (1 + math.sin(x) + math.cos(x))\n",
    "rhs = math.tan(x / 2)\n",
    "\n",
    "print(\"LHS:\", lhs)\n",
    "print(\"RHS:\", rhs)\n",
    "print(\"Equality holds:\", math.isclose(lhs, rhs))\n"
   ]
  },
  {
   "cell_type": "code",
   "execution_count": 11,
   "id": "1baa18b5-3bf1-4098-9cbb-f47422149a18",
   "metadata": {},
   "outputs": [
    {
     "name": "stdin",
     "output_type": "stream",
     "text": [
      "Enter the value of x in radians:  75\n"
     ]
    },
    {
     "name": "stdout",
     "output_type": "stream",
     "text": [
      "LHS: -0.20178554921156475\n",
      "RHS: -0.20178554921156475\n",
      "Equality holds: True\n"
     ]
    }
   ],
   "source": [
    "import math\n",
    "\n",
    "x = float(input(\"Enter the value of x in radians: \"))\n",
    "\n",
    "lhs = (1 + math.sin(x) - math.cos(x)) / (1 + math.sin(x) + math.cos(x))\n",
    "rhs = math.tan(x / 2)\n",
    "\n",
    "print(\"LHS:\", lhs)\n",
    "print(\"RHS:\", rhs)\n",
    "print(\"Equality holds:\", math.isclose(lhs, rhs))\n"
   ]
  },
  {
   "cell_type": "code",
   "execution_count": 13,
   "id": "6fc5ff4b-7df2-486f-953d-a4f4f9d83992",
   "metadata": {},
   "outputs": [
    {
     "name": "stdout",
     "output_type": "stream",
     "text": [
      "Result: 3.649628868371592\n"
     ]
    }
   ],
   "source": [
    "#1\n",
    "import math\n",
    "\n",
    "# First term\n",
    "term1 = math.sqrt(1 + 1/(1*2) + 1/(2*2))\n",
    "\n",
    "# Second term\n",
    "term2 = math.sqrt(1 + 1/(2*2) + 1/(3*2))\n",
    "\n",
    "# Third term\n",
    "term3 = math.sqrt(1 + 1/(3*2) + 1/(4*2))\n",
    "\n",
    "# Sum of the terms\n",
    "result = term1 + term2 + term3\n",
    "\n",
    "print(\"Result:\", result)"
   ]
  },
  {
   "cell_type": "code",
   "execution_count": 17,
   "id": "ce6d8bcf-a8da-47dd-bb1d-ed6413215d8c",
   "metadata": {},
   "outputs": [
    {
     "name": "stdout",
     "output_type": "stream",
     "text": [
      "Result: 19.995238095238093\n"
     ]
    }
   ],
   "source": [
    "#2\n",
    "# First group\n",
    "group1 = (1/2) + (1/3) + (1/5) + (1/7)\n",
    "\n",
    "# Second group\n",
    "group2 = (5/2) + (5/3) + (5/5) + (5/7)\n",
    "\n",
    "# Third group\n",
    "group3 = (11/2) + (11/3) + (11/5) + (11/7)\n",
    "\n",
    "# Sum of all groups\n",
    "result = group1 + group2 + group3\n",
    "\n",
    "print(\"Result:\", result)"
   ]
  },
  {
   "cell_type": "code",
   "execution_count": 19,
   "id": "0c5cdeb3-6613-4aa4-a6b0-64689904363d",
   "metadata": {},
   "outputs": [
    {
     "name": "stdout",
     "output_type": "stream",
     "text": [
      "Minimum value: 10.000007698596889 at x = 0.4995095095095095\n"
     ]
    }
   ],
   "source": [
    "#3\n",
    "import numpy as np\n",
    "\n",
    "# Function to compute the given expression\n",
    "def compute_expression(x):\n",
    "    y = 1 - x\n",
    "    return (x + 1/x)*2 + (y + 1/y)*2\n",
    "\n",
    "# Find the minimum value in the range (0, 1)\n",
    "x_values = np.linspace(0.01, 0.99, 1000)  # Avoid division by zero at x = 0, y = 0\n",
    "results = [compute_expression(x) for x in x_values]\n",
    "\n",
    "min_value = min(results)\n",
    "min_x = x_values[results.index(min_value)]\n",
    "\n",
    "print(f\"Minimum value: {min_value} at x = {min_x}\")"
   ]
  },
  {
   "cell_type": "code",
   "execution_count": 21,
   "id": "d51a33fd-143d-45ab-a8e2-d48dfd987dc8",
   "metadata": {},
   "outputs": [
    {
     "name": "stdout",
     "output_type": "stream",
     "text": [
      "Left-hand side: 3.3166247903554\n",
      "Right-hand side: 3.3166247903554\n",
      "The equation holds true.\n"
     ]
    }
   ],
   "source": [
    "#4\n",
    "import math\n",
    "\n",
    "# Compute the left-hand side of the equation\n",
    "lhs = math.tan(3 * math.pi / 11) + 4 * math.sin(2 * math.pi / 11)\n",
    "\n",
    "# Compute the right-hand side (sqrt(11))\n",
    "rhs = math.sqrt(11)\n",
    "\n",
    "# Print both sides to compare\n",
    "print(f\"Left-hand side: {lhs}\")\n",
    "print(f\"Right-hand side: {rhs}\")\n",
    "\n",
    "# Check if they are approximately equal\n",
    "if math.isclose(lhs, rhs, rel_tol=1e-9):\n",
    "    print(\"The equation holds true.\")\n",
    "else:\n",
    "    print(\"The equation does not hold.\")"
   ]
  },
  {
   "cell_type": "code",
   "execution_count": 23,
   "id": "acd8790f-028c-4468-8411-2add92be3aff",
   "metadata": {},
   "outputs": [
    {
     "name": "stdout",
     "output_type": "stream",
     "text": [
      "Result: 4.358898943540673\n",
      "The equation does not hold.\n"
     ]
    }
   ],
   "source": [
    "#5\n",
    "import math\n",
    "\n",
    "# Step 1: Compute the cube root of 64\n",
    "cube_root_64 = 64 ** (1/3)\n",
    "\n",
    "# Step 2: Compute the expression (2^2 + (1/2)^2)\n",
    "expression = 2*2 + (1/2)*2\n",
    "\n",
    "# Step 3: Multiply the cube root of 64 by the expression\n",
    "result = cube_root_64 * expression\n",
    "\n",
    "# Step 4: Subtract 1 from the result\n",
    "result_minus_1 = result - 1\n",
    "\n",
    "# Step 5: Take the square root of the result\n",
    "final_result = math.sqrt(result_minus_1)\n",
    "\n",
    "# Print the result\n",
    "print(\"Result:\", final_result)\n",
    "\n",
    "# Check if it equals 4\n",
    "if math.isclose(final_result, 4, rel_tol=1e-9):\n",
    "    print(\"The equation holds true.\")\n",
    "else:\n",
    "    print(\"The equation does not hold.\")"
   ]
  },
  {
   "cell_type": "code",
   "execution_count": 25,
   "id": "9b5a0e0a-7423-4621-a6d2-a88f344b8e5c",
   "metadata": {},
   "outputs": [
    {
     "name": "stdout",
     "output_type": "stream",
     "text": [
      "Left-hand side (sum of sines): 3.0776835371752536\n",
      "Right-hand side: 3.077683537175253\n",
      "The equation holds true.\n"
     ]
    }
   ],
   "source": [
    "#6\n",
    "import math\n",
    "\n",
    "# Compute the sum of sines\n",
    "sine_sum = math.sin(2 * math.pi / 10) + math.sin(4 * math.pi / 10) + \\\n",
    "           math.sin(6 * math.pi / 10) + math.sin(8 * math.pi / 10) + \\\n",
    "           math.sin(10 * math.pi / 10)\n",
    "\n",
    "# Compute the right-hand side\n",
    "rhs = math.sqrt(0.5 * (5 - math.sqrt(5))) + math.sqrt(0.5 * (5 + math.sqrt(5)))\n",
    "\n",
    "# Print both sides to compare\n",
    "print(\"Left-hand side (sum of sines):\", sine_sum)\n",
    "print(\"Right-hand side:\", rhs)\n",
    "\n",
    "# Check if they are approximately equal\n",
    "if math.isclose(sine_sum, rhs, rel_tol=1e-9):\n",
    "    print(\"The equation holds true.\")\n",
    "else:\n",
    "    print(\"The equation does not hold.\")"
   ]
  },
  {
   "cell_type": "code",
   "execution_count": null,
   "id": "84b694bb-011a-4596-84c0-799ddba7ff2e",
   "metadata": {},
   "outputs": [],
   "source": []
  }
 ],
 "metadata": {
  "kernelspec": {
   "display_name": "anaconda-2024.02-py310",
   "language": "python",
   "name": "conda-env-anaconda-2024.02-py310-py"
  },
  "language_info": {
   "codemirror_mode": {
    "name": "ipython",
    "version": 3
   },
   "file_extension": ".py",
   "mimetype": "text/x-python",
   "name": "python",
   "nbconvert_exporter": "python",
   "pygments_lexer": "ipython3",
   "version": "3.10.14"
  }
 },
 "nbformat": 4,
 "nbformat_minor": 5
}
